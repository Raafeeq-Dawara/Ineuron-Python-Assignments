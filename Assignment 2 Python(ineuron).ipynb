{
 "cells": [
  {
   "cell_type": "markdown",
   "metadata": {},
   "source": [
    "#  INEURON Python Assignment2 "
   ]
  },
  {
   "cell_type": "code",
   "execution_count": 163,
   "metadata": {},
   "outputs": [],
   "source": [
    " # Question 1 Task 1 (1.1) My own Reduce function:\n",
    "    \n",
    "    \n",
    "def myreduce(sum,l):\n",
    "    if type(l) == list:\n",
    "        for i in range(len(l)- 1):\n",
    "            l[0] = l[0] + l[i+1]\n",
    "        print(l[0])\n",
    "    elif type(l) == tuple:\n",
    "        a = list(l)\n",
    "        for i in range(len(a)- 1):\n",
    "            a[0] = a[0] + a[i+1]\n",
    "        print(a[0])\n",
    "        \n",
    "            \n"
   ]
  },
  {
   "cell_type": "code",
   "execution_count": 160,
   "metadata": {},
   "outputs": [
    {
     "name": "stdout",
     "output_type": "stream",
     "text": [
      "10\n"
     ]
    }
   ],
   "source": [
    "m = [1,2,3,4]\n",
    "myreduce(sum,m)"
   ]
  },
  {
   "cell_type": "code",
   "execution_count": 165,
   "metadata": {},
   "outputs": [
    {
     "name": "stdout",
     "output_type": "stream",
     "text": [
      "10\n"
     ]
    }
   ],
   "source": [
    "n = (1,2,3,4)\n",
    "myreduce(sum,n)"
   ]
  },
  {
   "cell_type": "code",
   "execution_count": 173,
   "metadata": {},
   "outputs": [],
   "source": [
    "# # Question 2 Task 1 (1.2) My own Reduce function:\n",
    "    \n",
    "def myfilter(l):\n",
    "    if type(l) == list:\n",
    "        m=[]\n",
    "        for i in l:\n",
    "            if i%2 == 0:\n",
    "                m.append(i)\n",
    "        print(\"List of Even numbers: = \", m)\n",
    "    if type(l) == tuple:\n",
    "        g=[]\n",
    "        for i in l:\n",
    "            if i%2 == 0:\n",
    "                g.append(i)\n",
    "        f = tuple(g)\n",
    "        print(\"Tuple of Even numbers: = \", f)\n",
    "            \n",
    "    \n",
    "    "
   ]
  },
  {
   "cell_type": "code",
   "execution_count": 174,
   "metadata": {},
   "outputs": [
    {
     "name": "stdout",
     "output_type": "stream",
     "text": [
      "List of Even numbers: =  [2, 4, 6, 8, 10]\n"
     ]
    }
   ],
   "source": [
    "n = [1,2,3,4,5,6,7,8,9,10]\n",
    "myfilter(n)"
   ]
  },
  {
   "cell_type": "code",
   "execution_count": 175,
   "metadata": {},
   "outputs": [
    {
     "name": "stdout",
     "output_type": "stream",
     "text": [
      "Tuple of Even numbers: =  (2, 4, 6, 8)\n"
     ]
    }
   ],
   "source": [
    "h = (1,2,3,4,5,6,7,8,9)\n",
    "myfilter(h)"
   ]
  },
  {
   "cell_type": "code",
   "execution_count": 72,
   "metadata": {},
   "outputs": [
    {
     "data": {
      "text/plain": [
       "['A', 'C', 'A', 'D', 'G', 'I', 'L', 'D']"
      ]
     },
     "execution_count": 72,
     "metadata": {},
     "output_type": "execute_result"
    }
   ],
   "source": [
    "#Ques 2 List Comprehension\n",
    "t = \"ACADGILD\"\n",
    "[i for i in t]"
   ]
  },
  {
   "cell_type": "code",
   "execution_count": 44,
   "metadata": {},
   "outputs": [
    {
     "name": "stdout",
     "output_type": "stream",
     "text": [
      "['x', 'xx', 'xxx', 'xxxx', 'y', 'yy', 'yyy', 'yyyy', 'z', 'zz', 'zzz', 'zzzz']\n"
     ]
    }
   ],
   "source": [
    "#Ques 2 List Comprehension\n",
    "t = range(1,5)\n",
    "p = [\"x\"*i for i in t]\n",
    "q = [\"y\"*i for i in t]\n",
    "r = [\"z\"*i for i in t]\n",
    "print(p+q+r)\n"
   ]
  },
  {
   "cell_type": "code",
   "execution_count": 45,
   "metadata": {},
   "outputs": [
    {
     "name": "stdout",
     "output_type": "stream",
     "text": [
      "['x', 'y', 'z', 'xx', 'yy', 'zz', 'xxx', 'yyy', 'zzz', 'xxxx', 'yyyy', 'zzzz']\n"
     ]
    }
   ],
   "source": [
    " #Ques 2 List Comprehension\n",
    "g = [\"x\",\"y\",\"z\"]\n",
    "a = [i*2 for i in g]\n",
    "b = [i*3 for i in g]\n",
    "c = [i*4 for i in g]\n",
    "print(g+a+b+c)\n",
    "\n",
    "\n"
   ]
  },
  {
   "cell_type": "code",
   "execution_count": 47,
   "metadata": {},
   "outputs": [
    {
     "name": "stdout",
     "output_type": "stream",
     "text": [
      "[[2], [3], [4], [3], [4], [5], [4], [5], [6]]\n"
     ]
    }
   ],
   "source": [
    "# Ques 2 List Comprehension\n",
    "a1 = [[i] for i in range(2,5)]\n",
    "a2 = [[i] for i in range(3,6)]\n",
    "a3 = [[i] for i in range(4,7)]\n",
    "print(a1+a2+a3)"
   ]
  },
  {
   "cell_type": "code",
   "execution_count": 48,
   "metadata": {},
   "outputs": [
    {
     "data": {
      "text/plain": [
       "[[2, 3, 4, 5], [3, 4, 5, 6], [4, 5, 6, 7], [5, 6, 7, 8]]"
      ]
     },
     "execution_count": 48,
     "metadata": {},
     "output_type": "execute_result"
    }
   ],
   "source": [
    "# Ques 2 List Comprehension\n",
    "B = []\n",
    "b1 = [i for i in range(2,6)]\n",
    "b2 = [i for i in range(3,7)]\n",
    "b3 = [i for i in range(4,8)]\n",
    "b4 = [i for i in range(5,9)]\n",
    "B.append(b1)\n",
    "B.append(b2)\n",
    "B.append(b3)\n",
    "B.append(b4)\n",
    "B\n"
   ]
  },
  {
   "cell_type": "code",
   "execution_count": 78,
   "metadata": {},
   "outputs": [
    {
     "name": "stdout",
     "output_type": "stream",
     "text": [
      "[(1, 1), (2, 1), (3, 1), (1, 2), (2, 2), (3, 2), (1, 3), (2, 3), (3, 3)]\n"
     ]
    }
   ],
   "source": [
    "#Ques 2 List Comprehension\n",
    "c1 = [(i+1,1) for i in range(0,3)]\n",
    "c2 = [(i+1,2) for i in range(0,3)]\n",
    "c3 = [(i+1,3) for i in range(0,3)]\n",
    "C = c1+c2+c3\n",
    "print(C)"
   ]
  },
  {
   "cell_type": "code",
   "execution_count": 1,
   "metadata": {},
   "outputs": [],
   "source": [
    "#Q3 Longest Word function\n",
    "\n",
    "def longest_word():\n",
    "    n = int(input(\"Please specify the no. of words, you would like to enter :  \"))\n",
    "    b = []\n",
    "    for i in range(1,n + 1):\n",
    "        c = input(\"enter your word :  \")\n",
    "        i = i +1\n",
    "    \n",
    "        b.append(c)\n",
    "\n",
    "    m = []\n",
    "    for j in b:\n",
    "        m.append(len(j))\n",
    "    \n",
    "\n",
    "    for i in b:\n",
    "        if len(i) == max(m):\n",
    "            print('\\r')\n",
    "            print(\"The longest word is = \", i)\n",
    "\n",
    "    "
   ]
  },
  {
   "cell_type": "code",
   "execution_count": 2,
   "metadata": {},
   "outputs": [
    {
     "name": "stdout",
     "output_type": "stream",
     "text": [
      "Please specify the no. of words, you would like to enter :  4\n",
      "enter your word :  elephant\n",
      "enter your word :  great\n",
      "enter your word :  fabulous\n",
      "enter your word :  congratulations\n",
      "\n",
      "The longest word is =  congratulations\n"
     ]
    }
   ],
   "source": [
    "longest_word()"
   ]
  },
  {
   "cell_type": "code",
   "execution_count": 1,
   "metadata": {},
   "outputs": [],
   "source": [
    "# Task 2 Question 1.1\n",
    "\n",
    "class length_intake:\n",
    "    def __init__(self,a,b,c):\n",
    "        self.a = a\n",
    "        self.b = b\n",
    "        self.c = c\n",
    "class area(length_intake):\n",
    "    def __init(self,*args):\n",
    "        super(area,self).__init__(*args)\n",
    "    def area_calculate(self):\n",
    "        s = (self.a + self.b + self.c)/2\n",
    "        A = s - self.a\n",
    "        B = s - self.b\n",
    "        C = s - self.c\n",
    "        D = s*A*B*C\n",
    "        print(\"Area of the triangle with lengths entered by you is: \" ,D**0.5)\n",
    "    "
   ]
  },
  {
   "cell_type": "code",
   "execution_count": 2,
   "metadata": {},
   "outputs": [
    {
     "name": "stdout",
     "output_type": "stream",
     "text": [
      "Area of the triangle with lengths entered by you is:  10.832351718348145\n"
     ]
    }
   ],
   "source": [
    "p = area(5,12.5,8)\n",
    "p.area_calculate()"
   ]
  },
  {
   "cell_type": "code",
   "execution_count": 3,
   "metadata": {},
   "outputs": [],
   "source": [
    "#Task 2 Question 1.2\n",
    "\n",
    "def filter_long_words():\n",
    "    y=[]\n",
    "    n = int(input(\"Number of words you would like to enter:\"))\n",
    "    for i in range(1,n+1):\n",
    "        b = input(\"Please enter the word:  \")\n",
    "        y.append(b)\n",
    "    print(\"\\r\")\n",
    "    \n",
    "    z = int(input(\"Please enter the specified integral length: \"))\n",
    "    t = []\n",
    "    for j in y:\n",
    "        if len(j) >= z:\n",
    "            t.append(j)\n",
    "    print('\\r')\n",
    "    print(\"Your concerned output = \", t)\n",
    "            "
   ]
  },
  {
   "cell_type": "code",
   "execution_count": 4,
   "metadata": {
    "scrolled": true
   },
   "outputs": [
    {
     "name": "stdout",
     "output_type": "stream",
     "text": [
      "Number of words you would like to enter:5\n",
      "Please enter the word:  Fantastic\n",
      "Please enter the word:  Congratulations\n",
      "Please enter the word:  Scrumptious\n",
      "Please enter the word:  Great\n",
      "Please enter the word:  Tree\n",
      "\n",
      "Please enter the specified integral length: 7\n",
      "\n",
      "Your concerned output =  ['Fantastic', 'Congratulations', 'Scrumptious']\n"
     ]
    }
   ],
   "source": [
    "filter_long_words()"
   ]
  },
  {
   "cell_type": "code",
   "execution_count": 11,
   "metadata": {},
   "outputs": [],
   "source": [
    "# Task 2 Question 2.1\n",
    "def length_output():\n",
    "    u=[]\n",
    "    n = int(input(\"Number of words you would like to enter:\"))\n",
    "    for i in range(1,n+1):\n",
    "        b = input(\"Please enter the word:  \")\n",
    "        u.append(b)\n",
    "    w=[]\n",
    "    for j in u:\n",
    "        w.append(len(j))\n",
    "    print('\\r')\n",
    "    print(\"Your concerned output, w= \",w)\n",
    "    "
   ]
  },
  {
   "cell_type": "code",
   "execution_count": 12,
   "metadata": {},
   "outputs": [
    {
     "name": "stdout",
     "output_type": "stream",
     "text": [
      "Number of words you would like to enter:4\n",
      "Please enter the word:  pen\n",
      "Please enter the word:  tree\n",
      "Please enter the word:  greatest\n",
      "Please enter the word:  congratulations\n",
      "\n",
      "Your concerned output, w=  [3, 4, 8, 15]\n"
     ]
    }
   ],
   "source": [
    "length_output()"
   ]
  },
  {
   "cell_type": "code",
   "execution_count": 27,
   "metadata": {},
   "outputs": [],
   "source": [
    "# Task 2 Question 2.2\n",
    "    \n",
    "def vowel_test():\n",
    "    Alphabet = input(\"Please enter a single alphabet: \")\n",
    "    if len(Alphabet) > 1 :\n",
    "        print(\"You have not entered a single alphabet.Please follow the instruction\")\n",
    "    elif len(Alphabet) == 0:\n",
    "        print(\"Error.Kindly follow the instruction\")\n",
    "    else:\n",
    "        v = ['a','e','i','o','u','A','E','I','O','U']\n",
    "        for j in v:\n",
    "             if Alphabet == j:\n",
    "                return True\n",
    "        else:\n",
    "            return False\n",
    "            \n"
   ]
  },
  {
   "cell_type": "code",
   "execution_count": 28,
   "metadata": {},
   "outputs": [
    {
     "name": "stdout",
     "output_type": "stream",
     "text": [
      "Please enter a single alphabet: effdfg\n",
      "You have not entered a single alphabet.Please follow the instruction\n"
     ]
    }
   ],
   "source": [
    "vowel_test()"
   ]
  },
  {
   "cell_type": "code",
   "execution_count": 29,
   "metadata": {},
   "outputs": [
    {
     "name": "stdout",
     "output_type": "stream",
     "text": [
      "Please enter a single alphabet: \n",
      "Error.Kindly follow the instruction\n"
     ]
    }
   ],
   "source": [
    "vowel_test()"
   ]
  },
  {
   "cell_type": "code",
   "execution_count": 30,
   "metadata": {},
   "outputs": [
    {
     "name": "stdout",
     "output_type": "stream",
     "text": [
      "Please enter a single alphabet: r\n"
     ]
    },
    {
     "data": {
      "text/plain": [
       "False"
      ]
     },
     "execution_count": 30,
     "metadata": {},
     "output_type": "execute_result"
    }
   ],
   "source": [
    "vowel_test()"
   ]
  },
  {
   "cell_type": "code",
   "execution_count": 31,
   "metadata": {},
   "outputs": [
    {
     "name": "stdout",
     "output_type": "stream",
     "text": [
      "Please enter a single alphabet: i\n"
     ]
    },
    {
     "data": {
      "text/plain": [
       "True"
      ]
     },
     "execution_count": 31,
     "metadata": {},
     "output_type": "execute_result"
    }
   ],
   "source": [
    "vowel_test()"
   ]
  },
  {
   "cell_type": "code",
   "execution_count": null,
   "metadata": {},
   "outputs": [],
   "source": []
  }
 ],
 "metadata": {
  "kernelspec": {
   "display_name": "Python 3",
   "language": "python",
   "name": "python3"
  },
  "language_info": {
   "codemirror_mode": {
    "name": "ipython",
    "version": 3
   },
   "file_extension": ".py",
   "mimetype": "text/x-python",
   "name": "python",
   "nbconvert_exporter": "python",
   "pygments_lexer": "ipython3",
   "version": "3.7.6"
  }
 },
 "nbformat": 4,
 "nbformat_minor": 4
}
